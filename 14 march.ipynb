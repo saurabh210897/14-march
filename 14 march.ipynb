{
 "cells": [
  {
   "cell_type": "code",
   "execution_count": 2,
   "id": "fee2887e-7fd2-4307-822b-4c3e0c3c0928",
   "metadata": {},
   "outputs": [],
   "source": [
    "# Q1. Write a Python function that takes in two arrays of data and calculates the F-value for a variance ratio \n",
    "# test. The function should return the F-value and the corresponding p-value for the test."
   ]
  },
  {
   "cell_type": "code",
   "execution_count": 3,
   "id": "feef977c-b700-4069-9b0c-01f520517ecb",
   "metadata": {},
   "outputs": [],
   "source": [
    "import numpy as np\n",
    "from scipy.stats import f\n",
    "\n",
    "def variance_ratio_test(data1, data2):\n",
    "    n1 = len(data1)\n",
    "    n2 = len(data2)\n",
    "    df1 = n1 - 1\n",
    "    df2 = n2 - 1\n",
    "    var1 = np.var(data1, ddof=1)\n",
    "    var2 = np.var(data2, ddof=1)\n",
    "    f_value = var1 / var2\n",
    "    p_value = f.cdf(f_value, df1, df2)\n",
    "    return f_value, p_value\n"
   ]
  },
  {
   "cell_type": "code",
   "execution_count": 4,
   "id": "fdde8ed3-3275-45a8-b14b-374a9f9d264a",
   "metadata": {},
   "outputs": [
    {
     "name": "stdout",
     "output_type": "stream",
     "text": [
      "F-value: 0.7142857142857143\n",
      "p-value: 0.383277210940066\n"
     ]
    }
   ],
   "source": [
    "import numpy as np\n",
    "\n",
    "data1 = np.array([2, 3, 4, 5, 6])\n",
    "data2 = np.array([3, 4, 5, 6, 7, 8])\n",
    "\n",
    "f_stat, p_value = variance_ratio_test(data1, data2)\n",
    "\n",
    "print(\"F-value:\", f_stat)\n",
    "print(\"p-value:\", p_value)\n"
   ]
  },
  {
   "cell_type": "code",
   "execution_count": 5,
   "id": "96d68b0e-fae5-4f54-93a0-7b1410206c8f",
   "metadata": {},
   "outputs": [],
   "source": [
    "# Q2. Given a significance level of 0.05 and the degrees of freedom for the numerator and denominator of an \n",
    "# F-distribution, write a Python function that returns the critical F-value for a two-tailed test."
   ]
  },
  {
   "cell_type": "code",
   "execution_count": 6,
   "id": "e8a5aa62-de50-4b81-8bee-9b5bfed08833",
   "metadata": {},
   "outputs": [],
   "source": [
    "from scipy.stats import f\n",
    "\n",
    "def critical_f_value(dfn, dfd, alpha=0.05):\n",
    "    return f.ppf(alpha / 2, dfn, dfd), f.ppf(1 - alpha / 2, dfn, dfd)\n"
   ]
  },
  {
   "cell_type": "code",
   "execution_count": 7,
   "id": "0f248fd8-6f25-4f5b-bc4b-99bbade72fc2",
   "metadata": {},
   "outputs": [
    {
     "data": {
      "text/plain": [
       "(0.07026656300420833, 4.07682306196248)"
      ]
     },
     "execution_count": 7,
     "metadata": {},
     "output_type": "execute_result"
    }
   ],
   "source": [
    "critical_f_value(3, 16)"
   ]
  },
  {
   "cell_type": "code",
   "execution_count": 8,
   "id": "b1f87a42-ecc9-456d-bc80-4ec6088bbbad",
   "metadata": {},
   "outputs": [],
   "source": [
    "# This means that if the calculated F-value falls below 0.0702 or above 4.077,\n",
    "# we would reject the null hypothesis at the 0.05 level of significance for a two-tailed test."
   ]
  },
  {
   "cell_type": "code",
   "execution_count": 9,
   "id": "499b256e-d477-4c38-b7fa-f969799616ea",
   "metadata": {},
   "outputs": [],
   "source": [
    "# Q3. Write a Python program that generates random samples from two normal distributions with known \n",
    "# variances and uses an F-test to determine if the variances are equal. The program should output the F value, \n",
    "# degrees of freedom, and p-value for the test."
   ]
  },
  {
   "cell_type": "code",
   "execution_count": 10,
   "id": "8b373bd6-301d-4629-bc2f-f2c553343aa5",
   "metadata": {},
   "outputs": [
    {
     "name": "stdout",
     "output_type": "stream",
     "text": [
      "Sample size of x: 20\n",
      "Sample size of y: 25\n",
      "Variance of x: 3\n",
      "Variance of y: 5\n",
      "F-value: 1.6666666666666667\n",
      "Degrees of freedom (numerator, denominator): 19 24\n",
      "p-value: 0.11804857371993138\n"
     ]
    }
   ],
   "source": [
    "import numpy as np\n",
    "from scipy.stats import f\n",
    "\n",
    "# Set the random seed for reproducibility\n",
    "np.random.seed(42)\n",
    "\n",
    "# Generate random samples from two normal distributions with known variances\n",
    "n = 20\n",
    "m = 25\n",
    "var_x = 3\n",
    "var_y = 5\n",
    "x = np.random.normal(loc=0, scale=np.sqrt(var_x), size=n)\n",
    "y = np.random.normal(loc=0, scale=np.sqrt(var_y), size=m)\n",
    "\n",
    "# Calculate the F-value, degrees of freedom, and p-value for the variance ratio test\n",
    "dfn = n - 1\n",
    "dfd = m - 1\n",
    "f_stat = var_x / var_y if var_x >= var_y else var_y / var_x\n",
    "p_value = 1 - f.cdf(f_stat, dfn, dfd)\n",
    "\n",
    "# Output the results\n",
    "print(\"Sample size of x:\", n)\n",
    "print(\"Sample size of y:\", m)\n",
    "print(\"Variance of x:\", var_x)\n",
    "print(\"Variance of y:\", var_y)\n",
    "print(\"F-value:\", f_stat)\n",
    "print(\"Degrees of freedom (numerator, denominator):\", dfn, dfd)\n",
    "print(\"p-value:\", p_value)\n"
   ]
  },
  {
   "cell_type": "code",
   "execution_count": 11,
   "id": "af8b69c9-86af-481e-9d66-fa3d24a3913d",
   "metadata": {},
   "outputs": [],
   "source": [
    "# Q4.The variances of two populations are known to be 10 and 15. A sample of 12 observations is taken from \n",
    "# each population. Conduct an F-test at the 5% significance level to determine if the variances are \n",
    "# significantly different."
   ]
  },
  {
   "cell_type": "code",
   "execution_count": 12,
   "id": "784f4614-5b6f-4cba-ab32-f8893fe3208d",
   "metadata": {},
   "outputs": [],
   "source": [
    "# To conduct an F-test to determine if the variances of two populations are significantly different at a 5% significance level, \n",
    "# we need to follow the steps:\n",
    "\n",
    "# State the null and alternative hypotheses:\n",
    "\n",
    "# H0: The variances of the two populations are equal (σ1^2 = σ2^2).\n",
    "# Ha: The variances of the two populations are significantly different (σ1^2 ≠ σ2^2).\n",
    "# Determine the level of significance α. In this case, α = 0.05.\n",
    "\n",
    "# Calculate the F-statistic using the formula:\n",
    "\n",
    "# F = S1^2 / S2^2\n",
    "\n",
    "# where S1^2 and S2^2 are the sample variances of the two populations.\n",
    "\n",
    "# Determine the degrees of freedom for the numerator and denominator of the F-statistic. For two populations with sample sizes n1 and n2, \n",
    "# the degrees of freedom are df1 = n1 - 1 and df2 = n2 - 1, respectively.\n",
    "\n",
    "# Calculate the p-value associated with the F-statistic using a cumulative distribution function (CDF) of the F-distribution \n",
    "# with df1 and df2 degrees of freedom.\n",
    "\n",
    "# Compare the p-value to the level of significance. If the p-value is less than the level of significance (p-value < α),\n",
    "# reject the null hypothesis and conclude that the variances of the two populations are significantly different. Otherwise, \n",
    "# fail to reject the null hypothesis.\n",
    "\n",
    "## ******************************\n",
    "# Note:- Generally, if the p-value is less than the significance level (usually set at 0.05), \n",
    "#        the null hypothesis is rejected, and the alternative hypothesis is accepted. Conversely, \n",
    "#       if the p-value is greater than the significance level, the null hypothesis is not rejected,\n",
    "#       and the alternative hypothesis is not accepted.\n",
    "\n",
    "## XXXXXXXXXXXXXXXXXXXXXXXXXXXXXXXXXXXXXXXXXXXXXXXXXXXXXXXXXXXXXXXXXXXXXXXXXXXXXXXXXXXXXXXXXXXXXXXXXXXXXXXXXXXXXXXXXXXXXXXXXXXXXXXXXXXXXXXXXXX\n",
    "\n",
    "#Note:- Generally, if the F-statics (which we calculate var.1/var.2) is less than the F-value (which we calculate from F distribution table), \n",
    "#        we fail to reject  null hypothesis , and the alternative hypothesis is rejected. Conversely, \n",
    "#       if the F-statics is greater than the F-value, the null hypothesis is rejected,\n",
    "#       and the alternative hypothesis is  accepted.\n",
    "\n",
    "## ******************************\n",
    "# Now let's apply these steps to the problem:\n",
    "\n",
    "# The null and alternative hypotheses are:\n",
    "\n",
    "# H0: σ1^2 = σ2^2\n",
    "\n",
    "# Ha: σ1^2 ≠ σ2^2\n",
    "\n",
    "# The level of significance is α = 0.05.\n",
    "\n",
    "# The F-statistic is:\n",
    "\n",
    "# F = S1^2 / S2^2\n",
    "\n",
    "# We don't have the sample data, but we can use the known population variances to estimate the pooled variance:\n",
    "\n",
    "# Sp^2 = [(n1 - 1)S1^2 + (n2 - 1)S2^2] / (n1 + n2 - 2)\n",
    "\n",
    "# Substituting the values, we get:\n",
    "\n",
    "# Sp^2 = [(12 - 1)10 + (12 - 1)15] / (12 + 12 - 2) = 12.5\n",
    "\n",
    "# Then, the F-statistic is:\n",
    "\n",
    "# F = S1^2 / S2^2 = 10 / 15 = 0.6667 ~= (p value = 0.79) \n",
    "\n",
    "# The degrees of freedom for the numerator and denominator are df1 = 11 and df2 = 11, respectively.\n",
    "\n",
    "# We can use the cumulative distribution function (CDF) of the F-distribution with df1 and df2 degrees of freedom to find \n",
    "# the p-value associated with the F-statistic. Using a statistical software or a F-distribution table, we find that \n",
    "# the p-value is approximately 0.79.\n",
    "\n",
    "# Finally, we compare the p-value to the level of significance. Since the p-value is greater than the level of significance (p-value > α), \n",
    "# we fail to reject the null hypothesis. Therefore, we conclude that there is not enough evidence to suggest that the variances of the two \n",
    "# populations are significantly different at the 5% significance level."
   ]
  },
  {
   "cell_type": "code",
   "execution_count": 13,
   "id": "beefbdc6-56d9-4e7c-9387-751b75d0dd53",
   "metadata": {},
   "outputs": [],
   "source": [
    "# Q5. A manufacturer claims that the variance of the diameter of a certain product is 0.005. A sample of 25 \n",
    "# products is taken, and the sample variance is found to be 0.006. Conduct an F-test at the 1% significance \n",
    "# level to determine if the claim is justified."
   ]
  },
  {
   "cell_type": "code",
   "execution_count": 14,
   "id": "522a747f-c19e-4a0b-aa78-1377b788fe47",
   "metadata": {},
   "outputs": [],
   "source": [
    "# To test if the variance of the diameter of a certain product is equal to a claimed value, we can use an F-test. \n",
    "# The null and alternative hypotheses for the F-test are as follows:\n",
    "\n",
    "# H0: σ^2 = σ0^2 (the variance is equal to the claimed value)\n",
    "# Ha: σ^2 ≠ σ0^2 (the variance is significantly different from the claimed value)\n",
    "# where σ^2 is the population variance and σ0^2 is the claimed variance.\n",
    "\n",
    "# Given that the manufacturer claims that the variance is 0.005 and a sample of 25 products is taken with a sample variance of 0.006, \n",
    "# we can calculate the F-statistic as:\n",
    "\n",
    "# F = S^2 / σ0^2\n",
    "\n",
    "# where S^2 is the sample variance. Substituting the values, we get:\n",
    "\n",
    "# F = 0.006 / 0.005 = 1.2\n",
    "\n",
    "# The degrees of freedom for the numerator and denominator are df1 = 24 and df2 = ∞ (since we are assuming a known population variance).\n",
    "\n",
    "# Using a statistical software or an F-distribution table, we can find the p-value associated with the F-statistic. At the 1% significance level, \n",
    "# the critical F-value for df1 = 24 and df2 = ∞ is approximately 1.38318.\n",
    "\n",
    "# Since the observed F-statistic (F = 1.2) is less than the critical F-value (1.38318), we fail to reject the null hypothesis. \n",
    "# Therefore, we conclude that there is not enough evidence to suggest that the claimed variance is significantly different \n",
    "# from the sample variance at the 1% significance level."
   ]
  },
  {
   "cell_type": "code",
   "execution_count": 15,
   "id": "6b1a2c8d-2659-403b-8e78-ae00a6275ac3",
   "metadata": {},
   "outputs": [],
   "source": [
    "# Q6. Write a Python function that takes in the degrees of freedom for the numerator and denominator of an \n",
    "# F-distribution and calculates the mean and variance of the distribution. The function should return the \n",
    "# mean and variance as a tuple."
   ]
  },
  {
   "cell_type": "code",
   "execution_count": 16,
   "id": "872e84ee-5fad-49f4-898b-d7d63ee09f90",
   "metadata": {},
   "outputs": [],
   "source": [
    "def f_distribution_mean_and_variance(df1, df2):\n",
    "    if df1 <= 0 or df2 <= 0:\n",
    "        raise ValueError(\"Degrees of freedom must be greater than zero\")\n",
    "    \n",
    "    mean = df2 / (df2 - 2)\n",
    "    variance = (2 * (df2**2) * (df1 + df2 - 2)) / (df1 * (df2 - 2)**2 * (df2 - 4))\n",
    "    \n",
    "    return mean, variance\n"
   ]
  },
  {
   "cell_type": "code",
   "execution_count": 17,
   "id": "20f68277-c378-4c46-9f88-6d2f1db3b0c6",
   "metadata": {},
   "outputs": [],
   "source": [
    "# Q7. A random sample of 10 measurements is taken from a normal population with unknown variance. The \n",
    "# sample variance is found to be 25. Another random sample of 15 measurements is taken from another \n",
    "# normal population with unknown variance, and the sample variance is found to be 20. Conduct an F-test \n",
    "# at the 10% significance level to determine if the variances are significantly different."
   ]
  },
  {
   "cell_type": "code",
   "execution_count": 18,
   "id": "82f4438d-53e6-4cf0-ba85-28aa74f507c0",
   "metadata": {},
   "outputs": [],
   "source": [
    "# To determine if the variances of two normal populations are significantly different, we can use an F-test. \n",
    "# The null hypothesis is that the variances are equal, while the alternative hypothesis is that they are not equal.\n",
    "\n",
    "# In this case, we have a sample of 10 measurements with a sample variance of 25, and another sample of 15 measurements \n",
    "# with a sample variance of 20.\n",
    "\n",
    "# We can calculate the test statistic as the ratio of the two sample variances:\n",
    "\n",
    "# F = s1^2 / s2^2\n",
    "\n",
    "# where s1^2 and s2^2 are the sample variances of the first and second samples, respectively.\n",
    "\n",
    "# We can then compare this test statistic to the F-distribution with degrees of freedom equal to n1 - 1 and n2 - 1,\n",
    "# where n1 and n2 are the sample sizes of the two populations.\n",
    "\n",
    "# At a 10% significance level, and with 9 and 14 degrees of freedom respectively, the critical value of the F-distribution is:\n",
    "\n",
    "# f_critical = 2.12195\n",
    "\n",
    "# If the calculated F statistic is greater than the critical value, we reject the null hypothesis and conclude that \n",
    "# the variances are significantly different. Otherwise, we fail to reject the null hypothesis and conclude that \n",
    "# the variances are not significantly different.\n",
    "\n",
    "# Let's calculate the F statistic for the given samples:\n",
    "\n",
    "# F = 25 / 20 = 1.25\n",
    "\n",
    "# Since F = 1.25 < f_critical = 2.12195, we fail to reject the null hypothesis and conclude \n",
    "# that the variances are not significantly different at the 10% significance level.\n",
    "\n",
    "# Therefore, we can say that there is not enough evidence to suggest that the variances of the two populations are significantly different."
   ]
  },
  {
   "cell_type": "code",
   "execution_count": 19,
   "id": "04022a3f-c406-41b1-9942-9bb2caa87694",
   "metadata": {},
   "outputs": [],
   "source": [
    "# Q8. The following data represent the waiting times in minutes at two different restaurants on a Saturday \n",
    "# night: Restaurant A: 24, 25, 28, 23, 22, 20, 27; Restaurant B: 31, 33, 35, 30, 32, 36. Conduct an F-test at the 5% \n",
    "# significance level to determine if the variances are significantly different."
   ]
  },
  {
   "cell_type": "code",
   "execution_count": 20,
   "id": "9d7f01a4-57c9-4219-b5b6-899a54e87b91",
   "metadata": {},
   "outputs": [],
   "source": [
    "# To determine if the variances of two populations are significantly different, we can use an F-test. The null hypothesis is that the variances are equal, \n",
    "# while the alternative hypothesis is that they are not equal.\n",
    "\n",
    "# In this case, we have waiting time data for two different restaurants on a Saturday night:\n",
    "\n",
    "# Restaurant A: 24, 25, 28, 23, 22, 20, 27\n",
    "# Restaurant B: 31, 33, 35, 30, 32, 36\n",
    "\n",
    "# We can calculate the sample variances for each restaurant, and then calculate the F-statistic as the ratio of the larger sample variance to \n",
    "# the smaller sample variance:\n",
    "\n",
    "# s1^2 = 10.81\n",
    "# s2^2 = 5.6\n",
    "# F = s1^2 / s2^2 = 1.932\n",
    "\n",
    "# Next, we can compare this F-statistic to the F-distribution with degrees of freedom equal to n1-1 and n2-1, where n1 and n2 are \n",
    "# the sample sizes of the two populations.\n",
    "\n",
    "# We have n1 = 7 and n2 = 6, so the degrees of freedom are 6 and 5 respectively.\n",
    "\n",
    "# At a 5% significance level, the critical value of the F-distribution with 6 and 5 degrees of freedom is:\n",
    "\n",
    "# f_critical = 4.2067\n",
    "\n",
    "# Since F = 1.932 < f_critical = 4.2067, we fail to reject the null hypothesis and conclude that the variances are not significantly different at \n",
    "# the 5% significance level.\n",
    "\n",
    "# Therefore, we can say that there is not enough evidence to suggest that the variances of the waiting times at the two restaurants are significantly different."
   ]
  },
  {
   "cell_type": "code",
   "execution_count": 21,
   "id": "cdc6afd9-eabf-4e5c-ace9-5acfdb0cf333",
   "metadata": {},
   "outputs": [],
   "source": [
    "# Q9. The following data represent the test scores of two groups of students: Group A: 80, 85, 90, 92, 87, 83; \n",
    "# Group B: 75, 78, 82, 79, 81, 84. Conduct an F-test at the 1% significance level to determine if the variances \n",
    "# are significantly different."
   ]
  },
  {
   "cell_type": "code",
   "execution_count": null,
   "id": "d989b77d-e747-4726-8bd4-04f53f243f22",
   "metadata": {},
   "outputs": [],
   "source": [
    "# To determine if the variances of two populations are significantly different, we can use an F-test. The null hypothesis is that the variances are equal, \n",
    "# while the alternative hypothesis is that they are not equal.\n",
    "\n",
    "# In this case, we have test score data for two groups of students:\n",
    "\n",
    "# Group A: 80, 85, 90, 92, 87, 83\n",
    "# Group B: 75, 78, 82, 79, 81, 84\n",
    "\n",
    "# We can calculate the sample variances for each group, and then calculate the F-statistic as the ratio of the larger sample variance to the smaller sample variance:\n",
    "\n",
    "# s1^2 = 23.2\n",
    "# s2^2 = 6.8\n",
    "# F = s1^2 / s2^2 = 3.412\n",
    "\n",
    "# Next, we can compare this F-statistic to the F-distribution with degrees of freedom equal to n1-1 and n2-1, where n1 and n2 are the sample sizes of \n",
    "# the two populations.\n",
    "\n",
    "# We have n1 = 6 and n2 = 6, so the degrees of freedom are 5 and 5 respectively.\n",
    "\n",
    "# At a 1% significance level, the critical value of the F-distribution with 5 and 5 degrees of freedom is:\n",
    "\n",
    "# f_critical = 4.2839\n",
    "\n",
    "# Since F = 3.412 < f_critical = 4.2839, we fail to reject the null hypothesis and conclude that the variances are not significantly different at \n",
    "# the 1% significance level.\n",
    "\n",
    "# Therefore, we can say that there is not enough evidence to suggest that the variances of the test scores of the two groups of students are significantly different."
   ]
  }
 ],
 "metadata": {
  "kernelspec": {
   "display_name": "Python 3 (ipykernel)",
   "language": "python",
   "name": "python3"
  },
  "language_info": {
   "codemirror_mode": {
    "name": "ipython",
    "version": 3
   },
   "file_extension": ".py",
   "mimetype": "text/x-python",
   "name": "python",
   "nbconvert_exporter": "python",
   "pygments_lexer": "ipython3",
   "version": "3.10.8"
  }
 },
 "nbformat": 4,
 "nbformat_minor": 5
}
